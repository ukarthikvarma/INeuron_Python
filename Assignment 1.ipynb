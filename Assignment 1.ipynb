{
 "cells": [
  {
   "cell_type": "markdown",
   "metadata": {},
   "source": [
    "### My First Programme"
   ]
  },
  {
   "cell_type": "code",
   "execution_count": 2,
   "metadata": {},
   "outputs": [
    {
     "name": "stdout",
     "output_type": "stream",
     "text": [
      "Hello World\n"
     ]
    }
   ],
   "source": [
    "print('Hello World')"
   ]
  },
  {
   "cell_type": "markdown",
   "metadata": {},
   "source": [
    "### Task 1: Problem Two\n",
    "##### Write a program which will find all such numbers which are divisible by 7 but are not a multiple of 5, between 2000 and 3200 (both included). The numbers obtained should be printed in a comma-separated sequence on a single line. "
   ]
  },
  {
   "cell_type": "code",
   "execution_count": 3,
   "metadata": {},
   "outputs": [
    {
     "name": "stdout",
     "output_type": "stream",
     "text": [
      "It is divisible by seven\n"
     ]
    }
   ],
   "source": [
    "if 2009%7 == 0:\n",
    "    print('It is divisible by seven')\n",
    "else:\n",
    "    print('It is not divisble by seven')"
   ]
  },
  {
   "cell_type": "code",
   "execution_count": 4,
   "metadata": {},
   "outputs": [
    {
     "name": "stdout",
     "output_type": "stream",
     "text": [
      "2002, 2009, 2016, 2023, 2030, 2037, 2044, 2051, 2058, 2065, 2072, 2079, 2086, 2093, 2100, 2107, 2114, 2121, 2128, 2135, 2142, 2149, 2156, 2163, 2170, 2177, 2184, 2191, 2198, 2205, 2212, 2219, 2226, 2233, 2240, 2247, 2254, 2261, 2268, 2275, 2282, 2289, 2296, 2303, 2310, 2317, 2324, 2331, 2338, 2345, 2352, 2359, 2366, 2373, 2380, 2387, 2394, 2401, 2408, 2415, 2422, 2429, 2436, 2443, 2450, 2457, 2464, 2471, 2478, 2485, 2492, 2499, 2506, 2513, 2520, 2527, 2534, 2541, 2548, 2555, 2562, 2569, 2576, 2583, 2590, 2597, 2604, 2611, 2618, 2625, 2632, 2639, 2646, 2653, 2660, 2667, 2674, 2681, 2688, 2695, 2702, 2709, 2716, 2723, 2730, 2737, 2744, 2751, 2758, 2765, 2772, 2779, 2786, 2793, 2800, 2807, 2814, 2821, 2828, 2835, 2842, 2849, 2856, 2863, 2870, 2877, 2884, 2891, 2898, 2905, 2912, 2919, 2926, 2933, 2940, 2947, 2954, 2961, 2968, 2975, 2982, 2989, 2996, 3003, 3010, 3017, 3024, 3031, 3038, 3045, 3052, 3059, 3066, 3073, 3080, 3087, 3094, 3101, 3108, 3115, 3122, 3129, 3136, 3143, 3150, 3157, 3164, 3171, 3178, 3185, 3192, 3199, "
     ]
    }
   ],
   "source": [
    "#output in one single horizontal line\n",
    "for i in range(2000,3201):\n",
    "    if i%7 == 0:\n",
    "        number = str(i)\n",
    "        print(number+',',end=' ') "
   ]
  },
  {
   "cell_type": "code",
   "execution_count": 5,
   "metadata": {},
   "outputs": [
    {
     "name": "stdout",
     "output_type": "stream",
     "text": [
      "2002,\n",
      "2009,\n",
      "2016,\n",
      "2023,\n",
      "2030,\n",
      "2037,\n",
      "2044,\n",
      "2051,\n",
      "2058,\n",
      "2065,\n",
      "2072,\n",
      "2079,\n",
      "2086,\n",
      "2093,\n",
      "2100,\n",
      "2107,\n",
      "2114,\n",
      "2121,\n",
      "2128,\n",
      "2135,\n",
      "2142,\n",
      "2149,\n",
      "2156,\n",
      "2163,\n",
      "2170,\n",
      "2177,\n",
      "2184,\n",
      "2191,\n",
      "2198,\n",
      "2205,\n",
      "2212,\n",
      "2219,\n",
      "2226,\n",
      "2233,\n",
      "2240,\n",
      "2247,\n",
      "2254,\n",
      "2261,\n",
      "2268,\n",
      "2275,\n",
      "2282,\n",
      "2289,\n",
      "2296,\n",
      "2303,\n",
      "2310,\n",
      "2317,\n",
      "2324,\n",
      "2331,\n",
      "2338,\n",
      "2345,\n",
      "2352,\n",
      "2359,\n",
      "2366,\n",
      "2373,\n",
      "2380,\n",
      "2387,\n",
      "2394,\n",
      "2401,\n",
      "2408,\n",
      "2415,\n",
      "2422,\n",
      "2429,\n",
      "2436,\n",
      "2443,\n",
      "2450,\n",
      "2457,\n",
      "2464,\n",
      "2471,\n",
      "2478,\n",
      "2485,\n",
      "2492,\n",
      "2499,\n",
      "2506,\n",
      "2513,\n",
      "2520,\n",
      "2527,\n",
      "2534,\n",
      "2541,\n",
      "2548,\n",
      "2555,\n",
      "2562,\n",
      "2569,\n",
      "2576,\n",
      "2583,\n",
      "2590,\n",
      "2597,\n",
      "2604,\n",
      "2611,\n",
      "2618,\n",
      "2625,\n",
      "2632,\n",
      "2639,\n",
      "2646,\n",
      "2653,\n",
      "2660,\n",
      "2667,\n",
      "2674,\n",
      "2681,\n",
      "2688,\n",
      "2695,\n",
      "2702,\n",
      "2709,\n",
      "2716,\n",
      "2723,\n",
      "2730,\n",
      "2737,\n",
      "2744,\n",
      "2751,\n",
      "2758,\n",
      "2765,\n",
      "2772,\n",
      "2779,\n",
      "2786,\n",
      "2793,\n",
      "2800,\n",
      "2807,\n",
      "2814,\n",
      "2821,\n",
      "2828,\n",
      "2835,\n",
      "2842,\n",
      "2849,\n",
      "2856,\n",
      "2863,\n",
      "2870,\n",
      "2877,\n",
      "2884,\n",
      "2891,\n",
      "2898,\n",
      "2905,\n",
      "2912,\n",
      "2919,\n",
      "2926,\n",
      "2933,\n",
      "2940,\n",
      "2947,\n",
      "2954,\n",
      "2961,\n",
      "2968,\n",
      "2975,\n",
      "2982,\n",
      "2989,\n",
      "2996,\n",
      "3003,\n",
      "3010,\n",
      "3017,\n",
      "3024,\n",
      "3031,\n",
      "3038,\n",
      "3045,\n",
      "3052,\n",
      "3059,\n",
      "3066,\n",
      "3073,\n",
      "3080,\n",
      "3087,\n",
      "3094,\n",
      "3101,\n",
      "3108,\n",
      "3115,\n",
      "3122,\n",
      "3129,\n",
      "3136,\n",
      "3143,\n",
      "3150,\n",
      "3157,\n",
      "3164,\n",
      "3171,\n",
      "3178,\n",
      "3185,\n",
      "3192,\n",
      "3199,\n"
     ]
    }
   ],
   "source": [
    "#output in one single vertical line with comma seperation\n",
    "for i in range(2000,3201):\n",
    "    if i%7 == 0:\n",
    "        number = str(i)\n",
    "        print(number+',') "
   ]
  },
  {
   "cell_type": "markdown",
   "metadata": {},
   "source": [
    "### Task 1: Problem 3\n",
    "##### Write a Python program to accept the user's first and last name and then getting them printed in the the reverse order with a space between first name and last name."
   ]
  },
  {
   "cell_type": "code",
   "execution_count": 6,
   "metadata": {},
   "outputs": [
    {
     "name": "stdout",
     "output_type": "stream",
     "text": [
      "Your first name : karthik\n",
      "and your last name : varma\n",
      "Your fisr and last name in reverse order is : kihtrak amrav\n"
     ]
    }
   ],
   "source": [
    "first_name = input('Your first name : ')\n",
    "last_name = input('and your last name : ')\n",
    "print('Your fisr and last name in reverse order is : '+first_name[::-1],end=' ')\n",
    "print(last_name[::-1])"
   ]
  },
  {
   "cell_type": "code",
   "execution_count": 7,
   "metadata": {},
   "outputs": [
    {
     "name": "stdout",
     "output_type": "stream",
     "text": [
      "Your first name please : vinod varma\n",
      "and your last name : uppalapati\n",
      "Name in reverse order: amrav doniv itapalappu\n"
     ]
    }
   ],
   "source": [
    "first_name = input('Your first name please : ')\n",
    "last_name = input('and your last name : ')\n",
    "rev_first = ''\n",
    "rev_last = ''\n",
    "\n",
    "\n",
    "for i in range(1,len(first_name)+1):\n",
    "    rev_first = rev_first+first_name[-i]\n",
    "for j in range(1,len(last_name)+1):\n",
    "    rev_last = rev_last+last_name[-j]\n",
    "\n",
    "    \n",
    "print('Name in reverse order: '+rev_first+' '+rev_last)"
   ]
  },
  {
   "cell_type": "markdown",
   "metadata": {},
   "source": [
    "### Task 1: Problem 4\n",
    "##### Write a Python program to find the volume of a sphere with diameter 12 cm.  \n",
    " \n",
    "Formula: V=4/3 * π * r 3 "
   ]
  },
  {
   "cell_type": "code",
   "execution_count": 14,
   "metadata": {},
   "outputs": [
    {
     "name": "stdout",
     "output_type": "stream",
     "text": [
      "904.608\n"
     ]
    }
   ],
   "source": [
    "d = 12 \n",
    "v = 4/3 * 3.141 * (12/2)**3\n",
    "print(v)"
   ]
  },
  {
   "cell_type": "code",
   "execution_count": 13,
   "metadata": {
    "scrolled": true
   },
   "outputs": [
    {
     "name": "stdout",
     "output_type": "stream",
     "text": [
      "Please enter the diameter value : 12\n",
      "Volume of the sphere is :  904.608\n"
     ]
    }
   ],
   "source": [
    "d = int(input('Please enter the diameter value : '))\n",
    "volume = 4/3 * 3.141 * (d/2)**3\n",
    "print('Volume of the sphere is : ',volume)"
   ]
  },
  {
   "cell_type": "markdown",
   "metadata": {},
   "source": [
    "### Task 2: Problem 1\n",
    "#####  Write a program which accepts a sequence of comma-separated numbers from console and generate a list."
   ]
  },
  {
   "cell_type": "code",
   "execution_count": 19,
   "metadata": {},
   "outputs": [
    {
     "name": "stdout",
     "output_type": "stream",
     "text": [
      "please enter values : 1,2,3,4,5\n",
      "['1', '2', '3', '4', '5']\n"
     ]
    }
   ],
   "source": [
    "val = input('please enter values : ')\n",
    "val = val.split(',')\n",
    "print(list(val))"
   ]
  },
  {
   "attachments": {
    "image.png": {
     "image/png": "[encoded data removed]"
    }
   },
   "cell_type": "markdown",
   "metadata": {},
   "source": [
    "### Task 2: Problem 2\n",
    "##### Create the below pattern using nested for loop in Python. \n",
    "![image.png](attachment:image.png)"
   ]
  },
  {
   "cell_type": "code",
   "execution_count": 106,
   "metadata": {},
   "outputs": [
    {
     "name": "stdout",
     "output_type": "stream",
     "text": [
      "Please enter a number : 7\n",
      "\n",
      "* \n",
      "* * \n",
      "* * * \n",
      "* * * * \n",
      "* * * * * \n",
      "* * * * * * \n",
      "* * * * * * * \n",
      "* * * * * * \n",
      "* * * * * \n",
      "* * * * \n",
      "* * * \n",
      "* * \n",
      "* \n",
      "\n"
     ]
    }
   ],
   "source": [
    "n = int(input('Please enter a number : '))\n",
    "for i in range(0,n+1):\n",
    "    print('* '*i)\n",
    "    if(i==n):\n",
    "        for i in range(n):\n",
    "            print('* '*(n-1))\n",
    "            n=n-1"
   ]
  },
  {
   "cell_type": "markdown",
   "metadata": {},
   "source": [
    "### Task 2: Problem 3\n",
    "##### Write a Python program to reverse a word after accepting the input from the user. "
   ]
  },
  {
   "cell_type": "code",
   "execution_count": 110,
   "metadata": {},
   "outputs": [
    {
     "name": "stdout",
     "output_type": "stream",
     "text": [
      "Your name please : KaRthIk\n",
      "Your name in reverse order is :  kIhtRaK\n"
     ]
    }
   ],
   "source": [
    "name = input('Your name please : ')\n",
    "rev = ''\n",
    "\n",
    "for i in range(1,len(name)+1):\n",
    "    rev = rev + name[-i]\n",
    "    \n",
    "print('Your name in reverse order is : ',rev)"
   ]
  },
  {
   "cell_type": "markdown",
   "metadata": {},
   "source": [
    "### Task 2: Problem 4\n",
    "##### Write a Python Program to print the given string in the format specified in the ​sample output. \n",
    " WE, THE PEOPLE OF INDIA, having solemnly resolved to constitute India into a SOVEREIGN, SOCIALIST, SECULAR, DEMOCRATIC REPUBLIC and to secure to all its citizens \n",
    " \n",
    "###### Sample Output: \n",
    " \n",
    "WE, THE PEOPLE OF INDIA,   \n",
    "     \n",
    "     having solemnly resolved to constitute India into a SOVEREIGN, !\n",
    "            \n",
    "            SOCIALIST, SECULAR, DEMOCRATIC REPUBLIC\n",
    "             \n",
    "             and to secure to all its citizens "
   ]
  },
  {
   "cell_type": "code",
   "execution_count": 218,
   "metadata": {},
   "outputs": [],
   "source": [
    "speech='WE, THE PEOPLE OF INDIA, having solemnly resolved to constitute India into a SOVEREIGN, SOCIALIST, SECULAR, DEMOCRATIC REPUBLIC and to secure to all its citizens'"
   ]
  },
  {
   "cell_type": "code",
   "execution_count": 219,
   "metadata": {},
   "outputs": [],
   "source": [
    "new_speech=speech[:24]+'\\n      '+speech[25:87]+'\\n\\t     '+speech[88:127]+'\\n\\t      '+speech[128:161]"
   ]
  },
  {
   "cell_type": "code",
   "execution_count": 220,
   "metadata": {},
   "outputs": [
    {
     "name": "stdout",
     "output_type": "stream",
     "text": [
      "WE, THE PEOPLE OF INDIA,\n",
      "      having solemnly resolved to constitute India into a SOVEREIGN,\n",
      "\t     SOCIALIST, SECULAR, DEMOCRATIC REPUBLIC\n",
      "\t      and to secure to all its citizens"
     ]
    }
   ],
   "source": [
    "for i in new_speech:\n",
    "    print(i,end='')"
   ]
  },
  {
   "cell_type": "code",
   "execution_count": 263,
   "metadata": {},
   "outputs": [
    {
     "name": "stdout",
     "output_type": "stream",
     "text": [
      "WE, THE PEOPLE OF INDIA,\n",
      "      having solemnly resolved to constitute India into a SOVEREIGN,\n",
      "\t     SOCIALIST, SECULAR, DEMOCRATIC REPUBLIC\n",
      "\t      and to secure to all its citizens."
     ]
    }
   ],
   "source": [
    "spaces = [24,87,127,161]\n",
    "break1 = ['\\n      ','\\n\\t     ','\\n\\t      ','.']\n",
    "start = 0\n",
    "for i in range(len(spaces)):\n",
    "    print(speech1[start:spaces[i]]+break1[i],end='')\n",
    "    start = spaces[i]+1"
   ]
  }
 ],
 "metadata": {
  "kernelspec": {
   "display_name": "Python 3",
   "language": "python",
   "name": "python3"
  },
  "language_info": {
   "codemirror_mode": {
    "name": "ipython",
    "version": 3
   },
   "file_extension": ".py",
   "mimetype": "text/x-python",
   "name": "python",
   "nbconvert_exporter": "python",
   "pygments_lexer": "ipython3",
   "version": "3.7.6"
  }
 },
 "nbformat": 4,
 "nbformat_minor": 4
}
