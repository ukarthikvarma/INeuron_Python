{
 "cells": [
  {
   "cell_type": "markdown",
   "metadata": {},
   "source": [
    "### Assignment 3\n",
    "\n",
    "#### Task1: Problem 1\n",
    "\n",
    "##### Write a function to compute 5/0 and use try/except to catch the exceptions. "
   ]
  },
  {
   "cell_type": "code",
   "execution_count": 33,
   "metadata": {},
   "outputs": [],
   "source": [
    "class Funct:\n",
    "    def __init__(self,num,den):\n",
    "        self.num = num\n",
    "        self.den = den\n",
    "    def divide(self):\n",
    "        ans = self.num/self.den\n",
    "        return '{}'.format(ans)"
   ]
  },
  {
   "cell_type": "code",
   "execution_count": 34,
   "metadata": {},
   "outputs": [
    {
     "name": "stdout",
     "output_type": "stream",
     "text": [
      "Please enter numerator : e\n",
      "Error: invalid literal for int() with base 10: 'e'\n",
      "OOPS!! That is an string . Please enter a Integer\n",
      "Please enter numerator : 5\n",
      "Please enter denomerator: 0\n",
      "Error: division by zero\n",
      "Denomerator cannot be zero! Please enter an integer other than zero.\n",
      "Please enter numerator : 4\n",
      "Please enter denomerator: 10\n",
      "The answer is : 0.4\n"
     ]
    }
   ],
   "source": [
    "while True:\n",
    "    try:\n",
    "        try:\n",
    "            num = int(input('Please enter numerator : '))\n",
    "            den = int(input('Please enter denomerator: '))\n",
    "        except Exception as e:\n",
    "            print('Error: {}'.format(e))\n",
    "            print('OOPS!! That is an string . Please enter a Integer')\n",
    "            continue\n",
    "        else:\n",
    "            div = Funct(num,den)\n",
    "            print('The answer is : {}'.format(div.divide()))\n",
    "            break\n",
    "    except Exception as a:\n",
    "        print('Error: {}'.format(a))\n",
    "        print('Denomerator cannot be zero! Please enter an integer other than zero.')\n",
    "        continue\n",
    "    else:\n",
    "        break"
   ]
  },
  {
   "cell_type": "markdown",
   "metadata": {},
   "source": [
    "#### Task1: Problem 2\n",
    "\n",
    "##### Implement a Python program to generate all sentences where subject is in [\"Americans\", \"Indians\"] and verb is in [\"Play\", \"watch\"] and the object is in [\"Baseball\",\"cricket\"]. \n",
    " \n",
    "Hint: Subject,Verb and Object should be declared in the program as shown below. \n",
    " \n",
    "**subjects=[\"Americans \",\"Indians\"]** **verbs=[\"play\",\"watch\"]** **objects=[\"Baseball\",\"Cricket\"]** "
   ]
  },
  {
   "cell_type": "code",
   "execution_count": 35,
   "metadata": {},
   "outputs": [],
   "source": [
    "class Generate:\n",
    "    def __init__(self):\n",
    "        self.subjects = ['Americans','Indians']\n",
    "        self.verbs = ['play','watch']\n",
    "        self.objects = ['Baseball','Cricket']\n",
    "        \n",
    "    def sentences(self):\n",
    "        for i in self.subjects:\n",
    "            for j in self.verbs:\n",
    "                for k in self.objects:\n",
    "                    print(i+' '+j+' '+k+'.',end='\\n')"
   ]
  },
  {
   "cell_type": "code",
   "execution_count": 36,
   "metadata": {},
   "outputs": [],
   "source": [
    "sent = Generate()"
   ]
  },
  {
   "cell_type": "code",
   "execution_count": 37,
   "metadata": {},
   "outputs": [
    {
     "name": "stdout",
     "output_type": "stream",
     "text": [
      "Americans play Baseball.\n",
      "Americans play Cricket.\n",
      "Americans watch Baseball.\n",
      "Americans watch Cricket.\n",
      "Indians play Baseball.\n",
      "Indians play Cricket.\n",
      "Indians watch Baseball.\n",
      "Indians watch Cricket.\n"
     ]
    }
   ],
   "source": [
    "sent.sentences()"
   ]
  },
  {
   "cell_type": "markdown",
   "metadata": {},
   "source": [
    "#### Task2 : Problem1\n",
    "\n",
    "##### Write a function so that the columns of the output matrix are powers of the input vector.  \n",
    "##### The order of the powers is determined by the increasing boolean argument. Specifically, when increasing is False, the i-th output column is the input vector raised element-wise to the power of N - i - 1."
   ]
  },
  {
   "cell_type": "code",
   "execution_count": 38,
   "metadata": {},
   "outputs": [],
   "source": [
    "import numpy as np"
   ]
  },
  {
   "cell_type": "code",
   "execution_count": 39,
   "metadata": {},
   "outputs": [
    {
     "name": "stdout",
     "output_type": "stream",
     "text": [
      "Please enter a number: 3\n",
      "please enter 3 values\n",
      "1\n",
      "2\n",
      "3\n",
      "Vandemont Matrix is:\n"
     ]
    },
    {
     "data": {
      "text/plain": [
       "array([[1, 1, 1],\n",
       "       [1, 2, 4],\n",
       "       [1, 3, 9]])"
      ]
     },
     "execution_count": 39,
     "metadata": {},
     "output_type": "execute_result"
    }
   ],
   "source": [
    "#Vandermonde matrix with True as default value for Increasing\n",
    "n = int(input('Please enter a number: '))       \n",
    "ones = []\n",
    "lst = []\n",
    "a = []\n",
    "for i in range(0,n):\n",
    "    ones.append(1)\n",
    "lst.append(ones)\n",
    "print('please enter {} values'.format(n))\n",
    "for j in range(0,n):\n",
    "    a.append(int(input()))\n",
    "lst.append(a)\n",
    "for f in range(1,n-1):\n",
    "    sqr = []\n",
    "    for k in lst[1]:\n",
    "        sqr.append(k**(f+1))\n",
    "    lst.append(sqr)\n",
    "print('Vandemont Matrix is:')    \n",
    "np.array(lst).transpose()"
   ]
  },
  {
   "cell_type": "code",
   "execution_count": 40,
   "metadata": {},
   "outputs": [],
   "source": [
    "#Vandermonde matrix where we can change the increasing value , True or False\n",
    "def Vandermonde(lst,increasing):\n",
    "    temp_lst = []\n",
    "    if increasing == True:\n",
    "        for i in lst:\n",
    "            ele = []\n",
    "            for j in range(len(lst)):\n",
    "                ele.append(i**j)\n",
    "            temp_lst.append(ele)\n",
    "        return np.array(temp_lst)\n",
    "    else:\n",
    "        for i in lst:\n",
    "            ele = []\n",
    "            j = len(lst)\n",
    "            while j != 0:\n",
    "                ele.append(i**(j-1))\n",
    "                j = j-1\n",
    "            temp_lst.append(ele)\n",
    "        return np.array(temp_lst)"
   ]
  },
  {
   "cell_type": "code",
   "execution_count": 41,
   "metadata": {},
   "outputs": [
    {
     "name": "stdout",
     "output_type": "stream",
     "text": [
      "Vandermonde matrix is\n"
     ]
    },
    {
     "data": {
      "text/plain": [
       "array([[  1,   1,   1,   1],\n",
       "       [ 27,   9,   3,   1],\n",
       "       [ 64,  16,   4,   1],\n",
       "       [125,  25,   5,   1]])"
      ]
     },
     "execution_count": 41,
     "metadata": {},
     "output_type": "execute_result"
    }
   ],
   "source": [
    "lst = [1,3,4,5]\n",
    "print('Vandermonde matrix is')\n",
    "Vandermonde(lst,increasing=False)"
   ]
  },
  {
   "cell_type": "code",
   "execution_count": null,
   "metadata": {},
   "outputs": [],
   "source": []
  }
 ],
 "metadata": {
  "kernelspec": {
   "display_name": "Python 3",
   "language": "python",
   "name": "python3"
  },
  "language_info": {
   "codemirror_mode": {
    "name": "ipython",
    "version": 3
   },
   "file_extension": ".py",
   "mimetype": "text/x-python",
   "name": "python",
   "nbconvert_exporter": "python",
   "pygments_lexer": "ipython3",
   "version": "3.7.6"
  }
 },
 "nbformat": 4,
 "nbformat_minor": 4
}
